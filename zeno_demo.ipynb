{
  "cells": [
    {
      "cell_type": "markdown",
      "metadata": {
        "id": "XHtaPysVSNZN"
      },
      "source": [
        "# Step 1 - Install the required dependencies and make sure the python version is 3.10 and above"
      ]
    },
    {
      "cell_type": "code",
      "execution_count": 1,
      "metadata": {
        "id": "APS6D3eiSAR_"
      },
      "outputs": [
        {
          "name": "stdout",
          "output_type": "stream",
          "text": [
            "Collecting zeno-client\n",
            "  Downloading zeno_client-0.1.16-py3-none-any.whl.metadata (2.1 kB)\n",
            "Collecting arrow-json<0.10.0,>=0.9.0 (from zeno-client)\n",
            "  Downloading arrow_json-0.9.0-cp37-abi3-macosx_10_9_x86_64.macosx_11_0_arm64.macosx_10_9_universal2.whl.metadata (1.5 kB)\n",
            "Collecting outdated>=0.2.0 (from zeno-client)\n",
            "  Downloading outdated-0.2.2-py2.py3-none-any.whl (7.5 kB)\n",
            "Collecting pandas>=1.4.3 (from zeno-client)\n",
            "  Downloading pandas-2.2.0-cp312-cp312-macosx_11_0_arm64.whl.metadata (19 kB)\n",
            "Collecting pyarrow>=6.0.0 (from zeno-client)\n",
            "  Downloading pyarrow-15.0.0-cp312-cp312-macosx_11_0_arm64.whl.metadata (3.0 kB)\n",
            "Collecting pydantic>=1.0 (from zeno-client)\n",
            "  Downloading pydantic-2.6.1-py3-none-any.whl.metadata (83 kB)\n",
            "\u001b[2K     \u001b[90m━━━━━━━━━━━━━━━━━━━━━━━━━━━━━━━━━━━━━━━\u001b[0m \u001b[32m83.5/83.5 kB\u001b[0m \u001b[31m939.2 kB/s\u001b[0m eta \u001b[36m0:00:00\u001b[0m0:01\u001b[0m00:01\u001b[0m\n",
            "\u001b[?25hCollecting requests>=2.20.0 (from zeno-client)\n",
            "  Using cached requests-2.31.0-py3-none-any.whl.metadata (4.6 kB)\n",
            "Collecting tqdm>=4.1.0 (from zeno-client)\n",
            "  Downloading tqdm-4.66.1-py3-none-any.whl.metadata (57 kB)\n",
            "\u001b[2K     \u001b[90m━━━━━━━━━━━━━━━━━━━━━━━━━━━━━━━━━━━━━━━━\u001b[0m \u001b[32m57.6/57.6 kB\u001b[0m \u001b[31m2.9 MB/s\u001b[0m eta \u001b[36m0:00:00\u001b[0m\n",
            "\u001b[?25hRequirement already satisfied: setuptools>=44 in /Users/athenadai/miniconda3/envs/mlip-zeno/lib/python3.12/site-packages (from outdated>=0.2.0->zeno-client) (69.0.3)\n",
            "Collecting littleutils (from outdated>=0.2.0->zeno-client)\n",
            "  Downloading littleutils-0.2.2.tar.gz (6.6 kB)\n",
            "  Preparing metadata (setup.py) ... \u001b[?25ldone\n",
            "\u001b[?25hCollecting numpy<2,>=1.26.0 (from pandas>=1.4.3->zeno-client)\n",
            "  Downloading numpy-1.26.4-cp312-cp312-macosx_11_0_arm64.whl.metadata (61 kB)\n",
            "\u001b[2K     \u001b[90m━━━━━━━━━━━━━━━━━━━━━━━━━━━━━━━━━━━━━━━━\u001b[0m \u001b[32m61.1/61.1 kB\u001b[0m \u001b[31m4.5 MB/s\u001b[0m eta \u001b[36m0:00:00\u001b[0m\n",
            "\u001b[?25hRequirement already satisfied: python-dateutil>=2.8.2 in /Users/athenadai/miniconda3/envs/mlip-zeno/lib/python3.12/site-packages (from pandas>=1.4.3->zeno-client) (2.8.2)\n",
            "Collecting pytz>=2020.1 (from pandas>=1.4.3->zeno-client)\n",
            "  Downloading pytz-2024.1-py2.py3-none-any.whl.metadata (22 kB)\n",
            "Collecting tzdata>=2022.7 (from pandas>=1.4.3->zeno-client)\n",
            "  Downloading tzdata-2023.4-py2.py3-none-any.whl.metadata (1.4 kB)\n",
            "Collecting annotated-types>=0.4.0 (from pydantic>=1.0->zeno-client)\n",
            "  Downloading annotated_types-0.6.0-py3-none-any.whl.metadata (12 kB)\n",
            "Collecting pydantic-core==2.16.2 (from pydantic>=1.0->zeno-client)\n",
            "  Downloading pydantic_core-2.16.2-cp312-cp312-macosx_11_0_arm64.whl.metadata (6.5 kB)\n",
            "Requirement already satisfied: typing-extensions>=4.6.1 in /Users/athenadai/miniconda3/envs/mlip-zeno/lib/python3.12/site-packages (from pydantic>=1.0->zeno-client) (4.9.0)\n",
            "Collecting charset-normalizer<4,>=2 (from requests>=2.20.0->zeno-client)\n",
            "  Downloading charset_normalizer-3.3.2-cp312-cp312-macosx_11_0_arm64.whl.metadata (33 kB)\n",
            "Collecting idna<4,>=2.5 (from requests>=2.20.0->zeno-client)\n",
            "  Using cached idna-3.6-py3-none-any.whl.metadata (9.9 kB)\n",
            "Collecting urllib3<3,>=1.21.1 (from requests>=2.20.0->zeno-client)\n",
            "  Downloading urllib3-2.2.0-py3-none-any.whl.metadata (6.4 kB)\n",
            "Collecting certifi>=2017.4.17 (from requests>=2.20.0->zeno-client)\n",
            "  Downloading certifi-2024.2.2-py3-none-any.whl.metadata (2.2 kB)\n",
            "Requirement already satisfied: six>=1.5 in /Users/athenadai/miniconda3/envs/mlip-zeno/lib/python3.12/site-packages (from python-dateutil>=2.8.2->pandas>=1.4.3->zeno-client) (1.16.0)\n",
            "Downloading zeno_client-0.1.16-py3-none-any.whl (7.3 kB)\n",
            "Downloading arrow_json-0.9.0-cp37-abi3-macosx_10_9_x86_64.macosx_11_0_arm64.macosx_10_9_universal2.whl (2.5 MB)\n",
            "\u001b[2K   \u001b[90m━━━━━━━━━━━━━━━━━━━━━━━━━━━━━━━━━━━━━━━━\u001b[0m \u001b[32m2.5/2.5 MB\u001b[0m \u001b[31m8.2 MB/s\u001b[0m eta \u001b[36m0:00:00\u001b[0ma \u001b[36m0:00:01\u001b[0m\n",
            "\u001b[?25hDownloading pandas-2.2.0-cp312-cp312-macosx_11_0_arm64.whl (11.7 MB)\n",
            "\u001b[2K   \u001b[90m━━━━━━━━━━━━━━━━━━━━━━━━━━━━━━━━━━━━━━━━\u001b[0m \u001b[32m11.7/11.7 MB\u001b[0m \u001b[31m16.4 MB/s\u001b[0m eta \u001b[36m0:00:00\u001b[0m00:01\u001b[0m00:01\u001b[0m\n",
            "\u001b[?25hDownloading pyarrow-15.0.0-cp312-cp312-macosx_11_0_arm64.whl (24.2 MB)\n",
            "\u001b[2K   \u001b[90m━━━━━━━━━━━━━━━━━━━━━━━━━━━━━━━━━━━━━━━━\u001b[0m \u001b[32m24.2/24.2 MB\u001b[0m \u001b[31m30.9 MB/s\u001b[0m eta \u001b[36m0:00:00\u001b[0m00:01\u001b[0m00:01\u001b[0m\n",
            "\u001b[?25hDownloading pydantic-2.6.1-py3-none-any.whl (394 kB)\n",
            "\u001b[2K   \u001b[90m━━━━━━━━━━━━━━━━━━━━━━━━━━━━━━━━━━━━━━━━\u001b[0m \u001b[32m394.8/394.8 kB\u001b[0m \u001b[31m24.0 MB/s\u001b[0m eta \u001b[36m0:00:00\u001b[0m\n",
            "\u001b[?25hDownloading pydantic_core-2.16.2-cp312-cp312-macosx_11_0_arm64.whl (1.7 MB)\n",
            "\u001b[2K   \u001b[90m━━━━━━━━━━━━━━━━━━━━━━━━━━━━━━━━━━━━━━━━\u001b[0m \u001b[32m1.7/1.7 MB\u001b[0m \u001b[31m28.7 MB/s\u001b[0m eta \u001b[36m0:00:00\u001b[0ma \u001b[36m0:00:01\u001b[0m\n",
            "\u001b[?25hUsing cached requests-2.31.0-py3-none-any.whl (62 kB)\n",
            "Downloading tqdm-4.66.1-py3-none-any.whl (78 kB)\n",
            "\u001b[2K   \u001b[90m━━━━━━━━━━━━━━━━━━━━━━━━━━━━━━━━━━━━━━━━\u001b[0m \u001b[32m78.3/78.3 kB\u001b[0m \u001b[31m7.7 MB/s\u001b[0m eta \u001b[36m0:00:00\u001b[0m\n",
            "\u001b[?25hDownloading annotated_types-0.6.0-py3-none-any.whl (12 kB)\n",
            "Downloading certifi-2024.2.2-py3-none-any.whl (163 kB)\n",
            "\u001b[2K   \u001b[90m━━━━━━━━━━━━━━━━━━━━━━━━━━━━━━━━━━━━━━━━\u001b[0m \u001b[32m163.8/163.8 kB\u001b[0m \u001b[31m6.9 MB/s\u001b[0m eta \u001b[36m0:00:00\u001b[0m\n",
            "\u001b[?25hDownloading charset_normalizer-3.3.2-cp312-cp312-macosx_11_0_arm64.whl (119 kB)\n",
            "\u001b[2K   \u001b[90m━━━━━━━━━━━━━━━━━━━━━━━━━━━━━━━━━━━━━━━━\u001b[0m \u001b[32m119.4/119.4 kB\u001b[0m \u001b[31m3.7 MB/s\u001b[0m eta \u001b[36m0:00:00\u001b[0m\n",
            "\u001b[?25hUsing cached idna-3.6-py3-none-any.whl (61 kB)\n",
            "Downloading numpy-1.26.4-cp312-cp312-macosx_11_0_arm64.whl (13.7 MB)\n",
            "\u001b[2K   \u001b[90m━━━━━━━━━━━━━━━━━━━━━━━━━━━━━━━━━━━━━━━━\u001b[0m \u001b[32m13.7/13.7 MB\u001b[0m \u001b[31m34.4 MB/s\u001b[0m eta \u001b[36m0:00:00\u001b[0ma \u001b[36m0:00:01\u001b[0m\n",
            "\u001b[?25hDownloading pytz-2024.1-py2.py3-none-any.whl (505 kB)\n",
            "\u001b[2K   \u001b[90m━━━━━━━━━━━━━━━━━━━━━━━━━━━━━━━━━━━━━━━━\u001b[0m \u001b[32m505.5/505.5 kB\u001b[0m \u001b[31m8.2 MB/s\u001b[0m eta \u001b[36m0:00:00\u001b[0ma \u001b[36m0:00:01\u001b[0m\n",
            "\u001b[?25hDownloading tzdata-2023.4-py2.py3-none-any.whl (346 kB)\n",
            "\u001b[2K   \u001b[90m━━━━━━━━━━━━━━━━━━━━━━━━━━━━━━━━━━━━━━━━\u001b[0m \u001b[32m346.6/346.6 kB\u001b[0m \u001b[31m37.2 MB/s\u001b[0m eta \u001b[36m0:00:00\u001b[0m\n",
            "\u001b[?25hDownloading urllib3-2.2.0-py3-none-any.whl (120 kB)\n",
            "\u001b[2K   \u001b[90m━━━━━━━━━━━━━━━━━━━━━━━━━━━━━━━━━━━━━━━━\u001b[0m \u001b[32m120.9/120.9 kB\u001b[0m \u001b[31m10.3 MB/s\u001b[0m eta \u001b[36m0:00:00\u001b[0m\n",
            "\u001b[?25hBuilding wheels for collected packages: littleutils\n",
            "  Building wheel for littleutils (setup.py) ... \u001b[?25ldone\n",
            "\u001b[?25h  Created wheel for littleutils: filename=littleutils-0.2.2-py3-none-any.whl size=7026 sha256=76acc4d728126a45e52f48e4f8a482c512a448c4a1d19f81eb00def67a83074b\n",
            "  Stored in directory: /Users/athenadai/Library/Caches/pip/wheels/20/bc/bd/732b4dc8cb7b7e1f9f21833e69a931bdcb11e1c21951fc4ff1\n",
            "Successfully built littleutils\n",
            "Installing collected packages: pytz, littleutils, urllib3, tzdata, tqdm, pydantic-core, numpy, idna, charset-normalizer, certifi, annotated-types, requests, pydantic, pyarrow, pandas, outdated, arrow-json, zeno-client\n",
            "Successfully installed annotated-types-0.6.0 arrow-json-0.9.0 certifi-2024.2.2 charset-normalizer-3.3.2 idna-3.6 littleutils-0.2.2 numpy-1.26.4 outdated-0.2.2 pandas-2.2.0 pyarrow-15.0.0 pydantic-2.6.1 pydantic-core-2.16.2 pytz-2024.1 requests-2.31.0 tqdm-4.66.1 tzdata-2023.4 urllib3-2.2.0 zeno-client-0.1.16\n",
            "Requirement already satisfied: pip in /Users/athenadai/miniconda3/envs/mlip-zeno/lib/python3.12/site-packages (24.0)\n",
            "Collecting bottleneck\n",
            "  Using cached Bottleneck-1.3.7.tar.gz (103 kB)\n",
            "  Installing build dependencies ... \u001b[?25ldone\n",
            "\u001b[?25h  Getting requirements to build wheel ... \u001b[?25ldone\n",
            "\u001b[?25h  Preparing metadata (pyproject.toml) ... \u001b[?25ldone\n",
            "\u001b[?25hRequirement already satisfied: numpy in /Users/athenadai/miniconda3/envs/mlip-zeno/lib/python3.12/site-packages (from bottleneck) (1.26.4)\n",
            "Building wheels for collected packages: bottleneck\n",
            "  Building wheel for bottleneck (pyproject.toml) ... \u001b[?25ldone\n",
            "\u001b[?25h  Created wheel for bottleneck: filename=Bottleneck-1.3.7-cp312-cp312-macosx_11_0_arm64.whl size=93917 sha256=f2587f8299ccf1040245eb5b2b6098eae93d80f35adf1962a7525065cdc88b93\n",
            "  Stored in directory: /Users/athenadai/Library/Caches/pip/wheels/a2/a5/50/54e18b8c5989e490f368f06424cf439bf2710430a932a63586\n",
            "Successfully built bottleneck\n",
            "Installing collected packages: bottleneck\n",
            "Successfully installed bottleneck-1.3.7\n",
            "Collecting langdetect\n",
            "  Using cached langdetect-1.0.9.tar.gz (981 kB)\n",
            "  Preparing metadata (setup.py) ... \u001b[?25ldone\n",
            "\u001b[?25hRequirement already satisfied: six in /Users/athenadai/miniconda3/envs/mlip-zeno/lib/python3.12/site-packages (from langdetect) (1.16.0)\n",
            "Building wheels for collected packages: langdetect\n",
            "  Building wheel for langdetect (setup.py) ... \u001b[?25ldone\n",
            "\u001b[?25h  Created wheel for langdetect: filename=langdetect-1.0.9-py3-none-any.whl size=993225 sha256=14432c492dec96860b00010ed45518295b804deb4f804752dedadbf0ad1a16f1\n",
            "  Stored in directory: /Users/athenadai/Library/Caches/pip/wheels/c1/67/88/e844b5b022812e15a52e4eaa38a1e709e99f06f6639d7e3ba7\n",
            "Successfully built langdetect\n",
            "Installing collected packages: langdetect\n",
            "Successfully installed langdetect-1.0.9\n"
          ]
        }
      ],
      "source": [
        "!pip install zeno-client\n",
        "!pip install --upgrade pip\n",
        "!pip install --upgrade bottleneck\n",
        "!pip install langdetect\n"
      ]
    },
    {
      "cell_type": "code",
      "execution_count": 2,
      "metadata": {
        "colab": {
          "base_uri": "https://localhost:8080/"
        },
        "id": "CRrMiMnLV9xY",
        "outputId": "5193e819-f2cb-4032-99df-ced1ea7b4191"
      },
      "outputs": [
        {
          "name": "stdout",
          "output_type": "stream",
          "text": [
            "Python 3.12.1\n"
          ]
        }
      ],
      "source": [
        "!python --version"
      ]
    },
    {
      "cell_type": "code",
      "execution_count": 1,
      "metadata": {
        "id": "wHMa3ItBSSdu"
      },
      "outputs": [
        {
          "name": "stderr",
          "output_type": "stream",
          "text": [
            "/Users/athenadai/miniconda3/envs/mlip-zeno/lib/python3.12/site-packages/tqdm/auto.py:21: TqdmWarning: IProgress not found. Please update jupyter and ipywidgets. See https://ipywidgets.readthedocs.io/en/stable/user_install.html\n",
            "  from .autonotebook import tqdm as notebook_tqdm\n"
          ]
        }
      ],
      "source": [
        "from zeno_client import ZenoClient, ZenoMetric\n",
        "import pandas as pd\n",
        "\n",
        "# Initialize a client with our API key.\n",
        "client = ZenoClient(\"zen_mRzHxR4RegXCg_iEqp2aoDQCeDiY_LGUrReYqzW-grA\")\n"
      ]
    },
    {
      "cell_type": "markdown",
      "metadata": {
        "id": "bwOPnZ1vSfWt"
      },
      "source": [
        "# Step 2 - Create a project"
      ]
    },
    {
      "cell_type": "code",
      "execution_count": 4,
      "metadata": {
        "id": "9UdBAYUsSXBH"
      },
      "outputs": [
        {
          "name": "stdout",
          "output_type": "stream",
          "text": [
            "Successfully created project.\n",
            "Access your project at  https://hub.zenoml.com/project/5b34bdf9-f4f6-4df0-bb1a-0180ac01acbe/Biased%20Movies%20Analysis\n"
          ]
        }
      ],
      "source": [
        "project = client.create_project(\n",
        "    name=\"Biased Movies Analysis\",\n",
        "    view=\"text-classification\",\n",
        "    metrics=[\n",
        "        ZenoMetric(name=\"accuracy\", type=\"mean\", columns=[\"correct\"]),\n",
        "        #Uncomment the following line after implementing the function\n",
        "        ZenoMetric(name=\"avg length ratio\", type=\"mean\", columns=[\"avg_length_ratio\"]),\n",
        "    ]\n",
        ")"
      ]
    },
    {
      "cell_type": "markdown",
      "metadata": {
        "id": "c-lh1yUhXjsd"
      },
      "source": [
        "# Step 3 - Create dataset"
      ]
    },
    {
      "cell_type": "code",
      "execution_count": 8,
      "metadata": {
        "id": "s4x_f9QqSjHT"
      },
      "outputs": [],
      "source": [
        "import pandas as pd\n",
        "from langdetect import detect\n",
        "from collections import Counter\n",
        "import random\n",
        "\n",
        "# Sample language detection function\n",
        "def detect_language(text):\n",
        "    try:\n",
        "        return detect(text)\n",
        "    except:\n",
        "        return \"Unknown\"\n",
        "\n",
        "# Create a Pandas DataFrame for the biased dataset of movies\n",
        "df = pd.DataFrame(\n",
        "    {\n",
        "        \"id\": range(1, 11),  # Using only 10 instances for demonstration\n",
        "        \"text\": [\n",
        "            \"I love this movie!\",\n",
        "            \"¡Odio esta película!\",\n",
        "            \"Ce film est ok.\",\n",
        "            \"The acting was great!\",\n",
        "            \"The plot was confusing.\",\n",
        "            \"I really enjoyed it!\",\n",
        "            \"Worst movie ever!\",\n",
        "            \"Not bad, but could be better.\",\n",
        "            \"A masterpiece!\",\n",
        "            \"I didn't like it.\",\n",
        "        ],\n",
        "        \"genre\": [\"action\", \"drama\", \"comedy\", \"action\", \"drama\", \"action\", \"drama\", \"comedy\", \"action\", \"drama\"],\n",
        "        \"year\": [random.choice([2020, 2021, 2022]) for _ in range(10)],  # Randomly select year\n",
        "        \"label\": [\"positive\", \"negative\", \"neutral\", \"positive\", \"negative\", \"positive\", \"negative\", \"neutral\", \"positive\", \"negative\"],\n",
        "    }\n",
        ")\n",
        "\n",
        "# Introduce biases in genre\n",
        "biased_genre = [\"action\", \"action\", \"drama\", \"drama\", \"comedy\", \"comedy\", \"comedy\", \"comedy\", \"drama\", \"drama\"]\n",
        "df[\"biased_genre\"] = biased_genre\n",
        "\n",
        "# Introduce biases in year\n",
        "biased_year = [2020, 2020, 2020, 2021, 2021, 2021, 2022, 2022, 2022, 2022]\n",
        "df[\"biased_year\"] = biased_year\n",
        "\n",
        "# Add language detection to create a new column\n",
        "df[\"detected_language\"] = df[\"text\"].apply(detect_language)\n",
        "\n",
        "# Add additional columns for analysis\n",
        "df[\"input_length\"] = df[\"text\"].str.len()\n",
        "\n",
        "#Uncomment the following line\n",
        "df[\"avg_length_ratio\"] = df[\"input_length\"] / (df[\"input_length\"].mean())\n",
        "\n"
      ]
    },
    {
      "cell_type": "markdown",
      "metadata": {
        "id": "9MRmyxrQX0-v"
      },
      "source": [
        "# Step 4 - Upload the Base Dataset\n"
      ]
    },
    {
      "cell_type": "code",
      "execution_count": 9,
      "metadata": {
        "id": "gX5H6b9mXxyW"
      },
      "outputs": [
        {
          "name": "stderr",
          "output_type": "stream",
          "text": [
            "/Users/athenadai/miniconda3/envs/mlip-zeno/lib/python3.12/site-packages/zeno_client/util.py:25: FutureWarning: Setting an item of incompatible dtype is deprecated and will raise in a future error of pandas. Value '['1' '2' '3' '4' '5' '6' '7' '8' '9' '10']' has dtype incompatible with int64, please explicitly cast to a compatible dtype first.\n",
            "  df.loc[:, id_column] = df[id_column].astype(str)\n",
            "100%|██████████| 1/1 [00:00<00:00,  1.65it/s]"
          ]
        },
        {
          "name": "stdout",
          "output_type": "stream",
          "text": [
            "Successfully uploaded data\n"
          ]
        },
        {
          "name": "stderr",
          "output_type": "stream",
          "text": [
            "\n"
          ]
        }
      ],
      "source": [
        "\n",
        "project.upload_dataset(df, id_column=\"id\", data_column=\"text\", label_column=\"label\")\n",
        "\n"
      ]
    },
    {
      "cell_type": "markdown",
      "metadata": {
        "id": "22toUe1iX_Se"
      },
      "source": [
        "# Step 5 - Upload the AI System Outputs\n"
      ]
    },
    {
      "cell_type": "code",
      "execution_count": 11,
      "metadata": {
        "id": "Rj6kOAkAXzBN"
      },
      "outputs": [],
      "source": [
        "# For demonstration, let's assume we have system predictions\n",
        "df_system = pd.DataFrame(\n",
        "    {\n",
        "        \"output\": [\"positive\", \"negative\", \"negative\", \"positive\", \"negative\", \"positive\", \"negative\", \"neutral\", \"positive\", \"negative\"],\n",
        "    }\n",
        ")\n",
        "\n",
        "# Create an id column to match the base dataset\n",
        "df_system[\"id\"] = df_system.index + 1\n",
        "\n",
        "# Measure accuracy for each instance, which is averaged by the ZenoMetric above\n",
        "df_system[\"correct\"] = (df_system[\"output\"] == df[\"label\"]).astype(int)\n",
        "\n"
      ]
    },
    {
      "cell_type": "markdown",
      "metadata": {
        "id": "wemoUlruYE2p"
      },
      "source": [
        "# Step 6 - Upload the system outputs\n"
      ]
    },
    {
      "cell_type": "code",
      "execution_count": 12,
      "metadata": {
        "id": "VkYtYnuBYEAR"
      },
      "outputs": [
        {
          "name": "stderr",
          "output_type": "stream",
          "text": [
            "/Users/athenadai/miniconda3/envs/mlip-zeno/lib/python3.12/site-packages/zeno_client/util.py:25: FutureWarning: Setting an item of incompatible dtype is deprecated and will raise in a future error of pandas. Value '['1' '2' '3' '4' '5' '6' '7' '8' '9' '10']' has dtype incompatible with int64, please explicitly cast to a compatible dtype first.\n",
            "  df.loc[:, id_column] = df[id_column].astype(str)\n",
            "100%|██████████| 1/1 [00:00<00:00,  1.80it/s]"
          ]
        },
        {
          "name": "stdout",
          "output_type": "stream",
          "text": [
            "Successfully uploaded system\n"
          ]
        },
        {
          "name": "stderr",
          "output_type": "stream",
          "text": [
            "\n"
          ]
        }
      ],
      "source": [
        "project.upload_system(df_system, name=\"System A\", id_column=\"id\", output_column=\"output\")"
      ]
    }
  ],
  "metadata": {
    "colab": {
      "provenance": []
    },
    "kernelspec": {
      "display_name": "Python 3",
      "name": "python3"
    },
    "language_info": {
      "codemirror_mode": {
        "name": "ipython",
        "version": 3
      },
      "file_extension": ".py",
      "mimetype": "text/x-python",
      "name": "python",
      "nbconvert_exporter": "python",
      "pygments_lexer": "ipython3",
      "version": "3.12.1"
    }
  },
  "nbformat": 4,
  "nbformat_minor": 0
}
